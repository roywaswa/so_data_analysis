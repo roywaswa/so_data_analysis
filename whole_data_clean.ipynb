{
 "cells": [
  {
   "cell_type": "markdown",
   "metadata": {},
   "source": [
    "# CLEANING ALL DATA FROM 2017- 2022"
   ]
  },
  {
   "cell_type": "code",
   "execution_count": 43,
   "metadata": {},
   "outputs": [],
   "source": [
    "import pandas as pd\n",
    "from pandas.core.series import  Series\n",
    "from pandas.core.frame import DataFrame\n",
    "import numpy as np"
   ]
  },
  {
   "cell_type": "code",
   "execution_count": 35,
   "metadata": {},
   "outputs": [],
   "source": [
    "pd.set_option('display.max_columns', 150)\n",
    "pd.set_option('display.max_rows', 150)"
   ]
  },
  {
   "cell_type": "code",
   "execution_count": 36,
   "metadata": {},
   "outputs": [],
   "source": [
    "so_data_2022 = pd.read_csv(\n",
    "    'C:/Users/Roy Waswa/Documents/DEV/SO_DATA/so-survey-2022/survey_results_public.csv')\n",
    "so_data_2021 = pd.read_csv(\n",
    "    'C:/Users/Roy Waswa/Documents/DEV/SO_DATA/so-survey-2021/survey_results_public.csv')\n",
    "so_data_2020 = pd.read_csv(\n",
    "    'C:/Users/Roy Waswa/Documents/DEV/SO_DATA/so-survey-2020/survey_results_public.csv')\n",
    "so_data_2019 = pd.read_csv(\n",
    "    'C:/Users/Roy Waswa/Documents/DEV/SO_DATA/so-survey-2019/survey_results_public.csv')"
   ]
  },
  {
   "cell_type": "code",
   "execution_count": 74,
   "metadata": {},
   "outputs": [],
   "source": [
    "# Filter criteria for each year\n",
    "criteria_2022 = ['MainBranch', 'Employment','Age', 'Gender', 'Country', 'Currency','CompTotal']\n",
    "criteria_2021 = ['MainBranch', 'Employment','Age', 'Gender', 'Country', 'Currency','CompTotal']\n",
    "criteria_2020 = ['MainBranch', 'Employment','Age', 'Gender', 'Country','CurrencyDesc','ConvertedComp']\n",
    "criteria_2019 = ['MainBranch', 'Employment','Age', 'Gender', 'Country', 'CurrencyDesc','ConvertedComp']"
   ]
  },
  {
   "cell_type": "code",
   "execution_count": 88,
   "metadata": {},
   "outputs": [
    {
     "data": {
      "text/html": [
       "<div>\n",
       "<style scoped>\n",
       "    .dataframe tbody tr th:only-of-type {\n",
       "        vertical-align: middle;\n",
       "    }\n",
       "\n",
       "    .dataframe tbody tr th {\n",
       "        vertical-align: top;\n",
       "    }\n",
       "\n",
       "    .dataframe thead th {\n",
       "        text-align: right;\n",
       "    }\n",
       "</style>\n",
       "<table border=\"1\" class=\"dataframe\">\n",
       "  <thead>\n",
       "    <tr style=\"text-align: right;\">\n",
       "      <th></th>\n",
       "      <th>year</th>\n",
       "      <th>data</th>\n",
       "      <th>filter_col</th>\n",
       "    </tr>\n",
       "  </thead>\n",
       "  <tbody>\n",
       "    <tr>\n",
       "      <th>0</th>\n",
       "      <td>2022</td>\n",
       "      <td>ResponseId                             ...</td>\n",
       "      <td>[MainBranch, Employment, Age, Gender, Country,...</td>\n",
       "    </tr>\n",
       "    <tr>\n",
       "      <th>1</th>\n",
       "      <td>2021</td>\n",
       "      <td>ResponseId                             ...</td>\n",
       "      <td>[MainBranch, Employment, Age, Gender, Country,...</td>\n",
       "    </tr>\n",
       "    <tr>\n",
       "      <th>2</th>\n",
       "      <td>2020</td>\n",
       "      <td>Respondent                             ...</td>\n",
       "      <td>[MainBranch, Employment, Age, Gender, Country,...</td>\n",
       "    </tr>\n",
       "    <tr>\n",
       "      <th>3</th>\n",
       "      <td>2019</td>\n",
       "      <td>Respondent                             ...</td>\n",
       "      <td>[MainBranch, Employment, Age, Gender, Country,...</td>\n",
       "    </tr>\n",
       "  </tbody>\n",
       "</table>\n",
       "</div>"
      ],
      "text/plain": [
       "   year                                               data  \\\n",
       "0  2022         ResponseId                             ...   \n",
       "1  2021         ResponseId                             ...   \n",
       "2  2020         Respondent                             ...   \n",
       "3  2019         Respondent                             ...   \n",
       "\n",
       "                                          filter_col  \n",
       "0  [MainBranch, Employment, Age, Gender, Country,...  \n",
       "1  [MainBranch, Employment, Age, Gender, Country,...  \n",
       "2  [MainBranch, Employment, Age, Gender, Country,...  \n",
       "3  [MainBranch, Employment, Age, Gender, Country,...  "
      ]
     },
     "execution_count": 88,
     "metadata": {},
     "output_type": "execute_result"
    }
   ],
   "source": [
    "all_data_array = [\n",
    "    {'year':'2022', 'data':so_data_2022, 'filter_col': criteria_2022},\n",
    "    {'year':'2021', 'data':so_data_2021, 'filter_col': criteria_2021},\n",
    "    {'year':'2020', 'data':so_data_2020, 'filter_col': criteria_2020},\n",
    "    {'year':'2019', 'data':so_data_2019, 'filter_col': criteria_2019},\n",
    "]"
   ]
  },
  {
   "cell_type": "code",
   "execution_count": 92,
   "metadata": {},
   "outputs": [],
   "source": [
    "clean_data_array = []\n",
    "for data_set in all_data_array:\n",
    "    criteria = data_set['filter_col']\n",
    "    df =  data_set['data']\n",
    "    year = data_set['year']\n",
    "    new_df = df[criteria]\n",
    "    for crit in criteria:\n",
    "        remove_na = new_df[crit].isna()\n",
    "        new_df = new_df[~remove_na]\n",
    "        if(crit == 'MainBranch'):\n",
    "            remove_non_dev = (new_df[crit] != 'None of these')\n",
    "            new_df = new_df[remove_non_dev]\n",
    "        if(crit == 'Employment'):\n",
    "            remove_unemployed = (new_df[crit].str.contains('Employed'))\n",
    "            new_df = new_df[remove_unemployed]\n",
    "        if(crit == 'CompTotal'):\n",
    "            remove_spam_comp = (new_df[crit] <= 500000)\n",
    "            new_df = new_df[remove_spam_comp]\n",
    "    # new_df.to_csv(f'./export/clean_{year}.csv')\n",
    "    clean_data_array.append({'year':year, 'data':new_df})\n",
    "    data_set['data'] = new_df"
   ]
  },
  {
   "cell_type": "markdown",
   "metadata": {},
   "source": [
    "# 2022"
   ]
  },
  {
   "cell_type": "code",
   "execution_count": null,
   "metadata": {},
   "outputs": [],
   "source": []
  },
  {
   "cell_type": "code",
   "execution_count": null,
   "metadata": {},
   "outputs": [],
   "source": []
  }
 ],
 "metadata": {
  "kernelspec": {
   "display_name": "Python 3.10.6 ('spyder_gee')",
   "language": "python",
   "name": "python3"
  },
  "language_info": {
   "codemirror_mode": {
    "name": "ipython",
    "version": 3
   },
   "file_extension": ".py",
   "mimetype": "text/x-python",
   "name": "python",
   "nbconvert_exporter": "python",
   "pygments_lexer": "ipython3",
   "version": "3.10.6"
  },
  "orig_nbformat": 4,
  "vscode": {
   "interpreter": {
    "hash": "3eb89d226dee58d9d70386b6554b6bde61e45fb2684156b0376dff37aac5159d"
   }
  }
 },
 "nbformat": 4,
 "nbformat_minor": 2
}
