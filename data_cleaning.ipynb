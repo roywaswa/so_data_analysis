{
 "cells": [
  {
   "cell_type": "code",
   "execution_count": 1,
   "id": "11b62497",
   "metadata": {},
   "outputs": [],
   "source": [
    "import pandas as pd\n",
    "import numpy as np"
   ]
  },
  {
   "cell_type": "code",
   "execution_count": 2,
   "id": "5fe2b614",
   "metadata": {},
   "outputs": [],
   "source": [
    "pd.set_option('display.max_columns', 85)\n",
    "pd.set_option('display.max_rows', 90)"
   ]
  },
  {
   "cell_type": "markdown",
   "id": "2555b59f",
   "metadata": {},
   "source": [
    "### Data Imports from csv"
   ]
  },
  {
   "cell_type": "code",
   "execution_count": 3,
   "id": "59126a56",
   "metadata": {},
   "outputs": [],
   "source": [
    "\n",
    "so_data_2022 = pd.read_csv(\n",
    "    'C:/Users/Roy Waswa/Documents/DEV/SO_DATA/so-survey-2022/survey_results_public.csv')"
   ]
  },
  {
   "cell_type": "code",
   "execution_count": 4,
   "id": "0c1a37f0",
   "metadata": {},
   "outputs": [],
   "source": [
    "criteria_2022 = ['MainBranch', 'Employment', 'RemoteWork',\n",
    "       'CodingActivities','YearsCode', 'YearsCodePro', 'Age', 'Gender','PurchaseInfluence', 'Country', 'Currency',\n",
    "       'CompTotal']\n",
    "so_data_2022 = so_data_2022[criteria_2022]"
   ]
  },
  {
   "cell_type": "code",
   "execution_count": 5,
   "id": "f7cea76d",
   "metadata": {},
   "outputs": [],
   "source": [
    "remove_non_devs = so_data_2022['MainBranch'] == 'None of these'\n",
    "remove_unemployed = so_data_2022['Employment'].str.contains('Employed')\n",
    "remove_no_comp = so_data_2022['CompTotal'].isna()\n",
    "remove_null_age = so_data_2022['Age'].isna()\n",
    "remove_spam_comp = so_data_2022['CompTotal'] <= 500000\n",
    "clean_so_data_2022 = so_data_2022[\n",
    "    ~remove_non_devs & remove_unemployed & ~remove_no_comp & remove_spam_comp &~remove_null_age ]"
   ]
  },
  {
   "cell_type": "code",
   "execution_count": 7,
   "id": "41c3983b",
   "metadata": {},
   "outputs": [],
   "source": [
    "clean_so_data_2022.to_csv('./export/clean_2022.csv')"
   ]
  },
  {
   "cell_type": "markdown",
   "id": "45566897",
   "metadata": {},
   "source": [
    "### Age against compensation data"
   ]
  },
  {
   "cell_type": "code",
   "execution_count": 8,
   "id": "aba4689b",
   "metadata": {},
   "outputs": [
    {
     "data": {
      "text/html": [
       "<div>\n",
       "<style scoped>\n",
       "    .dataframe tbody tr th:only-of-type {\n",
       "        vertical-align: middle;\n",
       "    }\n",
       "\n",
       "    .dataframe tbody tr th {\n",
       "        vertical-align: top;\n",
       "    }\n",
       "\n",
       "    .dataframe thead th {\n",
       "        text-align: right;\n",
       "    }\n",
       "</style>\n",
       "<table border=\"1\" class=\"dataframe\">\n",
       "  <thead>\n",
       "    <tr style=\"text-align: right;\">\n",
       "      <th></th>\n",
       "      <th>Age</th>\n",
       "      <th>Population</th>\n",
       "      <th>AvgComp</th>\n",
       "    </tr>\n",
       "  </thead>\n",
       "  <tbody>\n",
       "    <tr>\n",
       "      <th>0</th>\n",
       "      <td>18-24 years old</td>\n",
       "      <td>4146</td>\n",
       "      <td>63851.0</td>\n",
       "    </tr>\n",
       "    <tr>\n",
       "      <th>1</th>\n",
       "      <td>25-34 years old</td>\n",
       "      <td>15777</td>\n",
       "      <td>84426.0</td>\n",
       "    </tr>\n",
       "    <tr>\n",
       "      <th>2</th>\n",
       "      <td>35-44 years old</td>\n",
       "      <td>8181</td>\n",
       "      <td>102946.0</td>\n",
       "    </tr>\n",
       "    <tr>\n",
       "      <th>3</th>\n",
       "      <td>45-54 years old</td>\n",
       "      <td>2695</td>\n",
       "      <td>111807.0</td>\n",
       "    </tr>\n",
       "    <tr>\n",
       "      <th>4</th>\n",
       "      <td>55-64 years old</td>\n",
       "      <td>903</td>\n",
       "      <td>120062.0</td>\n",
       "    </tr>\n",
       "  </tbody>\n",
       "</table>\n",
       "</div>"
      ],
      "text/plain": [
       "               Age  Population   AvgComp\n",
       "0  18-24 years old        4146   63851.0\n",
       "1  25-34 years old       15777   84426.0\n",
       "2  35-44 years old        8181  102946.0\n",
       "3  45-54 years old        2695  111807.0\n",
       "4  55-64 years old         903  120062.0"
      ]
     },
     "execution_count": 8,
     "metadata": {},
     "output_type": "execute_result"
    }
   ],
   "source": [
    "age_brackets = clean_so_data_2022['Age']\n",
    "age_sets = ['18-24 years old','25-34 years old','35-44 years old','45-54 years old','55-64 years old']\n",
    "age_dict = {\n",
    "    'Age':[],\n",
    "    'Population':[],\n",
    "    'AvgComp':[]\n",
    "}\n",
    "for age in age_sets:\n",
    "    Population = clean_so_data_2022[age_brackets.str.contains(age)]\n",
    "    age_dict['Age'].append(age)\n",
    "    age_dict['Population'].append(Population.shape[0])\n",
    "    age_dict['AvgComp'].append(np.round(Population['CompTotal'].mean(), 0))\n",
    "age_comp_df = pd.DataFrame(data=age_dict, columns=['Age','Population','AvgComp'])\n",
    "age_comp_df"
   ]
  },
  {
   "cell_type": "markdown",
   "id": "e917b153",
   "metadata": {},
   "source": [
    "## Graph of compensation against age"
   ]
  },
  {
   "cell_type": "code",
   "execution_count": 9,
   "id": "27bba61a",
   "metadata": {},
   "outputs": [],
   "source": [
    "import matplotlib.pyplot as plt"
   ]
  },
  {
   "cell_type": "code",
   "execution_count": 10,
   "id": "e1f62d5a",
   "metadata": {},
   "outputs": [
    {
     "data": {
      "text/plain": [
       "<Figure size 640x480 with 0 Axes>"
      ]
     },
     "metadata": {},
     "output_type": "display_data"
    }
   ],
   "source": [
    "plt.style.use('ggplot')\n",
    "plt.tight_layout()"
   ]
  },
  {
   "cell_type": "code",
   "execution_count": 11,
   "id": "6ec882da",
   "metadata": {},
   "outputs": [],
   "source": [
    "age_axis = age_comp_df['Age'].array\n",
    "population = age_comp_df['Population'].array\n",
    "comp = age_comp_df['AvgComp'].array"
   ]
  },
  {
   "cell_type": "code",
   "execution_count": 12,
   "id": "4a288d84",
   "metadata": {},
   "outputs": [
    {
     "data": {
      "text/plain": [
       "<matplotlib.legend.Legend at 0x1b1f5763670>"
      ]
     },
     "execution_count": 12,
     "metadata": {},
     "output_type": "execute_result"
    },
    {
     "data": {
      "image/png": "[encoded data removed]",
      "text/plain": [
       "<Figure size 640x480 with 1 Axes>"
      ]
     },
     "metadata": {},
     "output_type": "display_data"
    }
   ],
   "source": [
    "plt.plot(age_axis,population, label='Population')\n",
    "plt.plot(age_axis,comp, label='Compensation')\n",
    "\n",
    "plt.title('Compensation and Population of developers with Age')\n",
    "plt.legend()"
   ]
  },
  {
   "cell_type": "code",
   "execution_count": null,
   "id": "991293b0",
   "metadata": {},
   "outputs": [],
   "source": []
  }
 ],
 "metadata": {
  "kernelspec": {
   "display_name": "Python 3.10.6 ('spyder_gee')",
   "language": "python",
   "name": "python3"
  },
  "language_info": {
   "codemirror_mode": {
    "name": "ipython",
    "version": 3
   },
   "file_extension": ".py",
   "mimetype": "text/x-python",
   "name": "python",
   "nbconvert_exporter": "python",
   "pygments_lexer": "ipython3",
   "version": "3.10.6"
  },
  "vscode": {
   "interpreter": {
    "hash": "3eb89d226dee58d9d70386b6554b6bde61e45fb2684156b0376dff37aac5159d"
   }
  }
 },
 "nbformat": 4,
 "nbformat_minor": 5
}
