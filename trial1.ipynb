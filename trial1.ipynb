{
 "cells": [
  {
   "cell_type": "markdown",
   "metadata": {},
   "source": [
    "## Pandas analysis of SO data"
   ]
  },
  {
   "cell_type": "code",
   "execution_count": null,
   "metadata": {},
   "outputs": [],
   "source": [
    "import pandas as pd\n",
    "import numpy as np"
   ]
  },
  {
   "cell_type": "code",
   "execution_count": null,
   "metadata": {},
   "outputs": [],
   "source": [
    "pd.set_option('display.max_columns', 85)\n",
    "pd.set_option('display.max_rows', 85)"
   ]
  },
  {
   "cell_type": "code",
   "execution_count": null,
   "metadata": {},
   "outputs": [],
   "source": [
    "source_df = pd.read_csv('./data/survey_results_public.csv')\n",
    "source_schema_df = pd.read_csv('./data/survey_results_schema.csv')"
   ]
  },
  {
   "cell_type": "code",
   "execution_count": null,
   "metadata": {},
   "outputs": [],
   "source": [
    "source_df.head(10)"
   ]
  },
  {
   "cell_type": "code",
   "execution_count": null,
   "metadata": {},
   "outputs": [],
   "source": [
    "source_df.columns\n",
    "focus_cols = [\n",
    "    'MainBranch', 'Employment', 'RemoteWork',\n",
    "    'CodingActivities', 'EdLevel', 'LearnCode', 'LearnCodeOnline',\n",
    "    'LearnCodeCoursesCert', 'YearsCode', 'YearsCodePro', 'DevType',\n",
    "    'OrgSize', 'PurchaseInfluence','Country', 'Currency',\n",
    "    'CompTotal', 'CompFreq', 'Age', 'Gender'\n",
    "]\n",
    "focus_df = source_df[focus_cols]\n",
    "focus_df.to_csv(\"focus.csv\", index=False)\n"
   ]
  },
  {
   "cell_type": "code",
   "execution_count": null,
   "metadata": {},
   "outputs": [],
   "source": [
    "employment_sr = focus_df['Employment']"
   ]
  },
  {
   "cell_type": "code",
   "execution_count": null,
   "metadata": {},
   "outputs": [],
   "source": [
    "employed_dev_df = focus_df[employment_sr.str.contains('Employed', na=False)]['Employment'].count()\n",
    "students_dev_df = focus_df[employment_sr.str.contains('Student', na=False)]['Employment'].count()\n",
    "retired_dev_df = focus_df[employment_sr.str.contains('Retired', na=False)]['Employment'].count()\n",
    "unemployed_dev_df = focus_df[employment_sr.str.contains('Not employed', na=True)]['Employment'].count()\n",
    "unemployed_dev_df"
   ]
  },
  {
   "cell_type": "code",
   "execution_count": null,
   "metadata": {},
   "outputs": [],
   "source": [
    "# percentage_employed = np.round((employed_dev_df['Employment'].count()/focus_df['Employment'].count())*100, 2)\n",
    "employment_data = [\n",
    "    ['Employed', 'Student', 'Retired', 'Unemployed'],\n",
    "    [employed_dev_df, students_dev_df, retired_dev_df, unemployed_dev_df]\n",
    "]\n",
    "employment_data"
   ]
  },
  {
   "cell_type": "markdown",
   "metadata": {},
   "source": [
    "## Matplotlib Plots based on Data"
   ]
  },
  {
   "cell_type": "code",
   "execution_count": null,
   "metadata": {},
   "outputs": [],
   "source": [
    "from matplotlib import pyplot as plt"
   ]
  },
  {
   "cell_type": "code",
   "execution_count": null,
   "metadata": {},
   "outputs": [],
   "source": [
    "plt.style.use('seaborn-v0_8-notebook')\n",
    "plt.tight_layout"
   ]
  },
  {
   "cell_type": "code",
   "execution_count": null,
   "metadata": {},
   "outputs": [],
   "source": [
    "# Plot data\n",
    "labels = ['Employed', 'Student', 'Retired', 'Unemployed']\n",
    "y_data = [employed_dev_df, students_dev_df, retired_dev_df,unemployed_dev_df ]"
   ]
  },
  {
   "cell_type": "markdown",
   "metadata": {},
   "source": [
    "# Bar graph of employment"
   ]
  },
  {
   "cell_type": "code",
   "execution_count": null,
   "metadata": {},
   "outputs": [],
   "source": [
    "employment_bar = plt.bar(\n",
    "    employment_data[0], \n",
    "    employment_data[1], \n",
    "    color=['b','k','r','g'],\n",
    "    animated=True,\n",
    "    capstyle=\"butt\"\n",
    "    )\n",
    "employment_bar.set_label('EMPLOYMENT STATUS OF CORRESPONDANCE')"
   ]
  },
  {
   "cell_type": "code",
   "execution_count": null,
   "metadata": {},
   "outputs": [],
   "source": []
  }
 ],
 "metadata": {
  "kernelspec": {
   "display_name": "Python 3.10.6 ('spyder_gee')",
   "language": "python",
   "name": "python3"
  },
  "language_info": {
   "codemirror_mode": {
    "name": "ipython",
    "version": 3
   },
   "file_extension": ".py",
   "mimetype": "text/x-python",
   "name": "python",
   "nbconvert_exporter": "python",
   "pygments_lexer": "ipython3",
   "version": "3.10.6"
  },
  "orig_nbformat": 4,
  "vscode": {
   "interpreter": {
    "hash": "3eb89d226dee58d9d70386b6554b6bde61e45fb2684156b0376dff37aac5159d"
   }
  }
 },
 "nbformat": 4,
 "nbformat_minor": 2
}
